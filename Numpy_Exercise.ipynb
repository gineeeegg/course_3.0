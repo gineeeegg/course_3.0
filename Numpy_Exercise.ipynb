{
  "cells": [
    {
      "cell_type": "markdown",
      "metadata": {
        "id": "view-in-github",
        "colab_type": "text"
      },
      "source": [
        "<a href=\"https://colab.research.google.com/github/gineeeegg/course_3.0/blob/main/Numpy_Exercise.ipynb\" target=\"_parent\"><img src=\"https://colab.research.google.com/assets/colab-badge.svg\" alt=\"Open In Colab\"/></a>"
      ]
    },
    {
      "cell_type": "markdown",
      "metadata": {
        "id": "ggFUZOmm3V8H"
      },
      "source": [
        "## $\\Large{Numpy\\; 練習題}$"
      ]
    },
    {
      "cell_type": "code",
      "execution_count": 1,
      "metadata": {
        "id": "6KNEKLNu3V8H"
      },
      "outputs": [],
      "source": [
        "import numpy as np"
      ]
    },
    {
      "cell_type": "markdown",
      "metadata": {
        "id": "E7y13BffZFY6"
      },
      "source": [
        "---\n",
        "# 1-Dimension Array"
      ]
    },
    {
      "cell_type": "markdown",
      "source": [
        "## Exercise 1\n",
        "使用np.arrange 函數創建一個數值從10到49的一維陣列"
      ],
      "metadata": {
        "id": "rUF_-tnCZJ6s"
      }
    },
    {
      "cell_type": "code",
      "execution_count": null,
      "metadata": {
        "id": "nB7ScIE23V8M",
        "colab": {
          "base_uri": "https://localhost:8080/"
        },
        "outputId": "49474119-ea46-405f-a80a-d538f0acce30"
      },
      "outputs": [
        {
          "output_type": "stream",
          "name": "stdout",
          "text": [
            "(40,)\n"
          ]
        }
      ],
      "source": [
        "ar = np.arange(10,50)\n",
        "ar\n",
        "print(ar.shape)"
      ]
    },
    {
      "cell_type": "markdown",
      "metadata": {
        "id": "6FR8HFzLZFY8"
      },
      "source": [
        "## Exercise 2\n",
        "請建立一個陣列，裡頭包含0~101中所有完全平方數(ex. 1, 4, 9...)"
      ]
    },
    {
      "cell_type": "code",
      "execution_count": null,
      "metadata": {
        "id": "2HLC2YBtZFY8",
        "colab": {
          "base_uri": "https://localhost:8080/"
        },
        "outputId": "a3a86744-e67e-4330-c230-65d6036241d4"
      },
      "outputs": [
        {
          "output_type": "stream",
          "name": "stdout",
          "text": [
            "[  0   1   4   9  16  25  36  49  64  81 100]\n"
          ]
        }
      ],
      "source": [
        "ar2 = np.array([i**2 for i in range(11)])\n",
        "print(ar2)"
      ]
    },
    {
      "cell_type": "markdown",
      "source": [
        "## Exercise 3\n",
        "反轉陣列x使得陣列內的元素從尾排到頭"
      ],
      "metadata": {
        "id": "xl9t5OhPZM9D"
      }
    },
    {
      "cell_type": "code",
      "execution_count": null,
      "metadata": {
        "id": "9468qVTX3V8R"
      },
      "outputs": [],
      "source": [
        "x = np.array([2, 0, 3, 1, 4, 7])"
      ]
    },
    {
      "cell_type": "code",
      "execution_count": null,
      "metadata": {
        "id": "M3enqNUsZFY9",
        "colab": {
          "base_uri": "https://localhost:8080/"
        },
        "outputId": "e5f8414d-5c87-4f3c-979d-3012a80f7037"
      },
      "outputs": [
        {
          "output_type": "stream",
          "name": "stdout",
          "text": [
            "[7 4 1 3 0 2]\n"
          ]
        }
      ],
      "source": [
        "print(x[::-1])"
      ]
    },
    {
      "cell_type": "markdown",
      "source": [
        "## Exercise 4\n",
        "將x陣列內數值介於3到8(包含3和8)的元素取負號"
      ],
      "metadata": {
        "id": "LpSJ8JYLZPSp"
      }
    },
    {
      "cell_type": "code",
      "execution_count": 2,
      "metadata": {
        "id": "9iQpH5dZZFY9"
      },
      "outputs": [],
      "source": [
        "X = np.array([6, 2, 8, 3, 0, 1])"
      ]
    },
    {
      "cell_type": "code",
      "execution_count": 4,
      "metadata": {
        "id": "if9bGNLLZFY-",
        "colab": {
          "base_uri": "https://localhost:8080/"
        },
        "outputId": "80b53b9d-a270-4c57-a36b-05c12bb8d2ac"
      },
      "outputs": [
        {
          "output_type": "stream",
          "name": "stdout",
          "text": [
            "[-6  2 -8 -3  0  1]\n"
          ]
        }
      ],
      "source": [
        "#condition1 = X >= 3 #& X <= 8\n",
        "#condition2 = X <= 8\n",
        "#X[(condition1 & condition2)] *= -1 \n",
        "X[(X >= 3) & (X <= 8)] *= -1\n",
        "print(X)"
      ]
    },
    {
      "cell_type": "markdown",
      "source": [
        "## Exercise 5\n",
        "創建一個長度為10的隨機數字陣列，並且將最大值取代為0"
      ],
      "metadata": {
        "id": "P1FKNG31ZRdx"
      }
    },
    {
      "cell_type": "code",
      "execution_count": null,
      "metadata": {
        "id": "7Of-nk4aZFY-",
        "colab": {
          "base_uri": "https://localhost:8080/"
        },
        "outputId": "d0390b74-c42b-4fe8-9f64-4e2768b8c8f9"
      },
      "outputs": [
        {
          "output_type": "stream",
          "name": "stdout",
          "text": [
            "[-1.72049057 -2.18231012 -0.29823835  0.11573193 -0.1783734  -1.41369157\n",
            "  0.97742516 -1.8290369   0.28203201 -0.52437918]\n",
            "[-1.72049057 -2.18231012 -0.29823835  0.11573193 -0.1783734  -1.41369157\n",
            "  0.         -1.8290369   0.28203201 -0.52437918]\n"
          ]
        }
      ],
      "source": [
        "x = np.random.randn(10)\n",
        "print(x)\n",
        "x[np.argmax(x)] = 0\n",
        "print(x)"
      ]
    },
    {
      "cell_type": "markdown",
      "source": [
        "## Exercise 6\n",
        "從陣列x中取出符合以下條件的子集\n",
        "\n",
        "(1) 不能被 3 整除\n",
        "\n",
        "(2) 可以被 3 整除\n",
        "\n",
        "(3) 可以被 3 或 5 整除"
      ],
      "metadata": {
        "id": "Ktkv0c0NZT63"
      }
    },
    {
      "cell_type": "code",
      "execution_count": null,
      "metadata": {
        "id": "iXB4gnd1ZFY-"
      },
      "outputs": [],
      "source": [
        "x = np.array([3, 4, 6, 10, 24, 89, 45, 43, 46, 99, 100])"
      ]
    },
    {
      "cell_type": "code",
      "execution_count": null,
      "metadata": {
        "id": "b3zi1ajEZFY_",
        "colab": {
          "base_uri": "https://localhost:8080/"
        },
        "outputId": "4c291699-dee2-4412-b171-efedd684c927"
      },
      "outputs": [
        {
          "metadata": {
            "tags": null
          },
          "name": "stdout",
          "output_type": "stream",
          "text": [
            "[  4  10  89  43  46 100]\n",
            "[ 3  6 24 45 99]\n",
            "[  3   6  10  24  45  99 100]\n"
          ]
        }
      ],
      "source": [
        "x1 = x[(x % 3 != 0)]\n",
        "print(x1)\n",
        "x2 = x[(x % 3 == 0)]\n",
        "print(x2)\n",
        "x3 = x[(x % 3 == 0) | (x % 5 == 0)]\n",
        "print(x3)"
      ]
    },
    {
      "cell_type": "markdown",
      "metadata": {
        "id": "dWol65hbZFY_"
      },
      "source": [
        "## Exercise 7\n",
        "使用np.arange建立從2019年1月到12月共12個月的陣列資料\n",
        "\n",
        "範例結果如下\n",
        "<img src='https://i.imgur.com/XrH8VCs.png'/>"
      ]
    },
    {
      "cell_type": "code",
      "execution_count": null,
      "metadata": {
        "id": "hCasCdc1ZFY_",
        "colab": {
          "base_uri": "https://localhost:8080/"
        },
        "outputId": "5d802d16-4054-4e42-98c3-dc465efd7c2b"
      },
      "outputs": [
        {
          "output_type": "execute_result",
          "data": {
            "text/plain": [
              "array(['2019-01', '2019-02', '2019-03', '2019-04', '2019-05', '2019-06',\n",
              "       '2019-07', '2019-08', '2019-09', '2019-10', '2019-11', '2019-12'],\n",
              "      dtype='datetime64[M]')"
            ]
          },
          "metadata": {},
          "execution_count": 2
        }
      ],
      "source": [
        "np.arange('2019-01', '2020-01', dtype='datetime64[M]')"
      ]
    },
    {
      "cell_type": "markdown",
      "metadata": {
        "id": "EOC-PxmZZFY_"
      },
      "source": [
        "---\n",
        "# n-Dimension Array"
      ]
    },
    {
      "cell_type": "markdown",
      "metadata": {
        "id": "PPpaEeZwZFY_"
      },
      "source": [
        "## Exercise 8\n",
        "請以ndim與shape兩個用法印出陣列x的維度數目與各維度的長度"
      ]
    },
    {
      "cell_type": "code",
      "execution_count": null,
      "metadata": {
        "id": "Qseed7RJZFY_"
      },
      "outputs": [],
      "source": [
        "x = np.array([[[[[[[[[[[[[[[[[5, 4, 3, 2, 1]]]], [[[[10, 9, 8, 7, 6]]]]]]]]]]]]]]]]])"
      ]
    },
    {
      "cell_type": "code",
      "execution_count": null,
      "metadata": {
        "id": "Fz2HW15wZFZA",
        "colab": {
          "base_uri": "https://localhost:8080/"
        },
        "outputId": "a078200f-7372-4d51-f64d-663f9a3abbf6"
      },
      "outputs": [
        {
          "output_type": "stream",
          "name": "stdout",
          "text": [
            "(1, 1, 1, 1, 1, 1, 1, 1, 1, 1, 1, 1, 2, 1, 1, 1, 5)\n",
            "17\n"
          ]
        }
      ],
      "source": [
        "print(x.shape)\n",
        "print(x.ndim)"
      ]
    },
    {
      "cell_type": "markdown",
      "source": [
        "## Exercise 9\n",
        "使用np.random.random 函數創建一個3x3x3的陣列"
      ],
      "metadata": {
        "id": "Ktmkc3uUZWyz"
      }
    },
    {
      "cell_type": "code",
      "execution_count": null,
      "metadata": {
        "id": "WdVy_Z683V8V",
        "colab": {
          "base_uri": "https://localhost:8080/"
        },
        "outputId": "c77c2ab7-9486-427a-faa2-52a44382aa49"
      },
      "outputs": [
        {
          "output_type": "execute_result",
          "data": {
            "text/plain": [
              "array([[[0.17624782, 0.73992397, 0.93247223],\n",
              "        [0.20537924, 0.41155046, 0.82639286],\n",
              "        [0.20856136, 0.33378151, 0.94435457]],\n",
              "\n",
              "       [[0.17954599, 0.32682286, 0.13086319],\n",
              "        [0.99261754, 0.61189656, 0.62732465],\n",
              "        [0.22623779, 0.06155423, 0.11796183]],\n",
              "\n",
              "       [[0.09372759, 0.49544133, 0.76337994],\n",
              "        [0.35811429, 0.4995744 , 0.2830303 ],\n",
              "        [0.85537726, 0.39543522, 0.46733451]]])"
            ]
          },
          "metadata": {},
          "execution_count": 9
        }
      ],
      "source": [
        "x = np.random.random((3,3,3))\n",
        "x"
      ]
    },
    {
      "cell_type": "markdown",
      "source": [
        "## Exercise 10\n",
        "創建一個5x5且數值介於0到4之間的整數陣列"
      ],
      "metadata": {
        "id": "iwJPoGp0ZZZR"
      }
    },
    {
      "cell_type": "code",
      "execution_count": null,
      "metadata": {
        "id": "llG_MeMCZFZA",
        "colab": {
          "base_uri": "https://localhost:8080/"
        },
        "outputId": "c5d10916-d29a-4eb5-edb3-cf874416fe2d"
      },
      "outputs": [
        {
          "output_type": "execute_result",
          "data": {
            "text/plain": [
              "array([[1, 2, 0, 1, 1],\n",
              "       [3, 2, 1, 3, 0],\n",
              "       [1, 3, 1, 3, 2],\n",
              "       [3, 0, 2, 0, 1],\n",
              "       [3, 3, 2, 1, 1]])"
            ]
          },
          "metadata": {},
          "execution_count": 10
        }
      ],
      "source": [
        "np.random.randint(0, 4, size=(5, 5))"
      ]
    },
    {
      "cell_type": "markdown",
      "source": [
        "## Exercise 11\n",
        "創建一個擁有隨機數值且形狀為10x10的陣列，並且使用np.min 和 np.max兩函數找出陣列中的最大值/最小值"
      ],
      "metadata": {
        "id": "APrvxc_8ZbYv"
      }
    },
    {
      "cell_type": "code",
      "execution_count": null,
      "metadata": {
        "id": "t2j9bQw33V8Z"
      },
      "outputs": [],
      "source": [
        "x = np.random.random(size=(10,10))\n",
        "print(x)\n",
        "print(np.min(x))\n",
        "print(np.max(x))"
      ]
    },
    {
      "cell_type": "markdown",
      "metadata": {
        "id": "vUu_289XZFZC"
      },
      "source": [
        "## Exercise 12\n",
        "使用reshape函數將陣列x轉成最後一個維度的長度為1且第一個維度為3的3維陣列"
      ]
    },
    {
      "cell_type": "code",
      "execution_count": null,
      "metadata": {
        "id": "zEQAIjKLZFZD"
      },
      "outputs": [],
      "source": [
        "x = np.arange(9)"
      ]
    },
    {
      "cell_type": "code",
      "execution_count": null,
      "metadata": {
        "id": "GChybyZhZFZD",
        "colab": {
          "base_uri": "https://localhost:8080/"
        },
        "outputId": "e66c906d-9099-4531-8cf1-1c586a9aed3e"
      },
      "outputs": [
        {
          "output_type": "stream",
          "name": "stdout",
          "text": [
            "[[0 1 2]\n",
            " [3 4 5]\n",
            " [6 7 8]]\n"
          ]
        }
      ],
      "source": [
        "x1 = x.reshape(3,3)\n",
        "print(x1)"
      ]
    },
    {
      "cell_type": "markdown",
      "metadata": {
        "id": "JbMAkxo6ZFZD"
      },
      "source": [
        "## Exercise 13\n",
        "請針對x陣列中的每欄資料做累積加總\n",
        "\n",
        "註：加總後的陣列數值將為 [[2, 6, 3], [7, 15, 4]]"
      ]
    },
    {
      "cell_type": "code",
      "execution_count": null,
      "metadata": {
        "id": "Rq8-7AhyZFZD",
        "colab": {
          "base_uri": "https://localhost:8080/"
        },
        "outputId": "e59936ad-10f9-4368-cac7-830944b7f93c"
      },
      "outputs": [
        {
          "output_type": "execute_result",
          "data": {
            "text/plain": [
              "array([[2, 6, 3],\n",
              "       [5, 9, 1]])"
            ]
          },
          "metadata": {},
          "execution_count": 22
        }
      ],
      "source": [
        "x = np.array([2, 6, 3, 5, 9, 1]).reshape(2, -1)\n",
        "x"
      ]
    },
    {
      "cell_type": "code",
      "execution_count": null,
      "metadata": {
        "id": "YN6iQtBjZFZD",
        "colab": {
          "base_uri": "https://localhost:8080/"
        },
        "outputId": "639a095e-f306-4b41-862f-6bf6120a3fad"
      },
      "outputs": [
        {
          "output_type": "execute_result",
          "data": {
            "text/plain": [
              "array([[ 2,  6,  3],\n",
              "       [ 7, 15,  4]])"
            ]
          },
          "metadata": {},
          "execution_count": 23
        }
      ],
      "source": [
        "np.cumsum(x, axis=0)"
      ]
    },
    {
      "cell_type": "markdown",
      "source": [
        "## Exercise 14\n",
        "陣列標準化: 將x陣列內所有的元素除以x陣列內元素的最大值"
      ],
      "metadata": {
        "id": "UR31XV0lZdqA"
      }
    },
    {
      "cell_type": "code",
      "execution_count": null,
      "metadata": {
        "id": "vN4LagRkZFZE"
      },
      "outputs": [],
      "source": [
        "x = np.random.randn(6).reshape(2, 3)"
      ]
    },
    {
      "cell_type": "code",
      "execution_count": null,
      "metadata": {
        "id": "qEpjr7MvZFZE",
        "colab": {
          "base_uri": "https://localhost:8080/"
        },
        "outputId": "135e1356-de6f-4eef-93e7-3cb86b35eaa5"
      },
      "outputs": [
        {
          "output_type": "stream",
          "name": "stdout",
          "text": [
            "[[-0.53360485 -0.08185162  1.47509934]\n",
            " [-0.01873699 -1.30633929 -1.06762489]]\n",
            "1.4750993447045373\n",
            "[[-0.36174164 -0.05548889  1.        ]\n",
            " [-0.01270219 -0.88559411 -0.72376474]]\n"
          ]
        }
      ],
      "source": [
        "print(x)\n",
        "x1 = np.max(x)\n",
        "print(x1)\n",
        "xd = x/x1\n",
        "print(xd)"
      ]
    },
    {
      "cell_type": "markdown",
      "metadata": {
        "id": "AlPX8QKgZFZE"
      },
      "source": [
        "## Exercise 15\n",
        "請計算出x陣列中相鄰數字的差異並同樣存成np.array型態\n",
        "\n",
        "註：由於x陣列有6個數字，因此相鄰數字的差異共會有5個數值，依序為 [-151, 224, -158, -88, 572]"
      ]
    },
    {
      "cell_type": "code",
      "execution_count": 6,
      "metadata": {
        "id": "p871cBmoZFZE"
      },
      "outputs": [],
      "source": [
        "x = np.array([183, 32, 256, 98, 10, 582])"
      ]
    },
    {
      "cell_type": "code",
      "execution_count": 15,
      "metadata": {
        "id": "oXcDnFXSZFZE",
        "colab": {
          "base_uri": "https://localhost:8080/"
        },
        "outputId": "358a05f2-f407-4542-f2d7-e61cbc263608"
      },
      "outputs": [
        {
          "output_type": "execute_result",
          "data": {
            "text/plain": [
              "array([-151,  224, -158,  -88,  572])"
            ]
          },
          "metadata": {},
          "execution_count": 15
        }
      ],
      "source": [
        "x1 = np.array([x[i+1]-x[i] for i in range(len(x)-1)])\n",
        "#x1 = x[1:6] - x[0:5] #解2\n",
        "#x1 = x[1:] - x[:-1] 解3\n",
        "x1"
      ]
    },
    {
      "cell_type": "markdown",
      "metadata": {
        "id": "KpmVRtkPZFZE"
      },
      "source": [
        "## Exercise 16\n",
        "請將x陣列中所有數值可被3整除的元素索引列出\n",
        "\n",
        "註：由於x為二維陣列，單一個元素的索引會有兩個數字(ex.[1, 0])"
      ]
    },
    {
      "cell_type": "code",
      "execution_count": null,
      "metadata": {
        "id": "IWVYXt9AZFZF",
        "colab": {
          "base_uri": "https://localhost:8080/"
        },
        "outputId": "c0caf903-45e1-44fd-f142-a38d52c9f608"
      },
      "outputs": [
        {
          "output_type": "execute_result",
          "data": {
            "text/plain": [
              "array([[ 0,  1,  2,  3,  4],\n",
              "       [ 5,  6,  7,  8,  9],\n",
              "       [10, 11, 12, 13, 14],\n",
              "       [15, 16, 17, 18, 19]])"
            ]
          },
          "metadata": {},
          "execution_count": 42
        }
      ],
      "source": [
        "x = np.arange(20).reshape(4, 5)\n",
        "x"
      ]
    },
    {
      "cell_type": "code",
      "execution_count": null,
      "metadata": {
        "id": "41X3ZjjSZFZF",
        "colab": {
          "base_uri": "https://localhost:8080/"
        },
        "outputId": "ee6ce54e-3edb-4be6-8ca5-e6df3dfadbf6"
      },
      "outputs": [
        {
          "output_type": "execute_result",
          "data": {
            "text/plain": [
              "array([[0, 0],\n",
              "       [0, 3],\n",
              "       [1, 1],\n",
              "       [1, 4],\n",
              "       [2, 2],\n",
              "       [3, 0],\n",
              "       [3, 3]])"
            ]
          },
          "metadata": {},
          "execution_count": 43
        }
      ],
      "source": [
        "np.argwhere(x % 3 == 0)"
      ]
    },
    {
      "cell_type": "markdown",
      "source": [
        "## Exercise 17\n",
        "使用np.pad 函數在陣列x外圍加一層0，使得原本3x3的陣列變為5x5"
      ],
      "metadata": {
        "id": "jh125XR_ZgAa"
      }
    },
    {
      "cell_type": "code",
      "execution_count": 16,
      "metadata": {
        "id": "1hp3gjzn3V8e"
      },
      "outputs": [],
      "source": [
        "x = np.ones(shape=(3, 3))"
      ]
    },
    {
      "cell_type": "code",
      "execution_count": 23,
      "metadata": {
        "id": "CTBxsdI3ZFZF",
        "colab": {
          "base_uri": "https://localhost:8080/"
        },
        "outputId": "b65b77fa-3fc6-4164-862e-395efc35fbc7"
      },
      "outputs": [
        {
          "output_type": "execute_result",
          "data": {
            "text/plain": [
              "array([[0., 0., 0., 0., 0.],\n",
              "       [0., 1., 1., 1., 0.],\n",
              "       [0., 1., 1., 1., 0.],\n",
              "       [0., 1., 1., 1., 0.],\n",
              "       [0., 0., 0., 0., 0.]])"
            ]
          },
          "metadata": {},
          "execution_count": 23
        }
      ],
      "source": [
        "x1 = np.pad(x,1,mode='constant',constant_values = 0)\n",
        "x1"
      ]
    },
    {
      "cell_type": "markdown",
      "metadata": {
        "id": "NHkNTexpZFZF"
      },
      "source": [
        "## Exercise 18\n",
        "計算x與y兩兩元素的乘積並做加總(答案應為32)\n",
        "\n",
        "註：上述的做法其實就是矩陣內積，因此有超過兩種以上的作法可以計算出此答案，大家可以試試看自己會幾種"
      ]
    },
    {
      "cell_type": "code",
      "execution_count": 26,
      "metadata": {
        "id": "fk5aRUNnZFZF"
      },
      "outputs": [],
      "source": [
        "x = np.array([[1, 2, 3]])\n",
        "y = np.array([[4, 5, 6]])"
      ]
    },
    {
      "cell_type": "code",
      "execution_count": 29,
      "metadata": {
        "id": "zcLJFYWuZFZF",
        "colab": {
          "base_uri": "https://localhost:8080/"
        },
        "outputId": "566a8cbb-a487-4ca7-8a83-1addadd3015e"
      },
      "outputs": [
        {
          "output_type": "stream",
          "name": "stdout",
          "text": [
            "[[32]]\n",
            "[[32]]\n"
          ]
        }
      ],
      "source": [
        "c1 = np.matmul(x,y.T)\n",
        "print(c1)\n",
        "c2 = np.dot(x,y.T)\n",
        "print(c2)"
      ]
    },
    {
      "cell_type": "markdown",
      "metadata": {
        "id": "4EhpQz4QZFZG"
      },
      "source": [
        "## Exercise 19\n",
        "使用np.concatenate函數將陣列x與陣列y合併在一起，使其與```np.append(x, y, axis = 1)```結果相同"
      ]
    },
    {
      "cell_type": "code",
      "execution_count": 30,
      "metadata": {
        "id": "cLfEEa2WZFZG",
        "outputId": "fa07a286-ef2e-417c-aee4-dbb4615276fc",
        "colab": {
          "base_uri": "https://localhost:8080/"
        }
      },
      "outputs": [
        {
          "output_type": "execute_result",
          "data": {
            "text/plain": [
              "array([[1, 2, 3, 4, 5, 6]])"
            ]
          },
          "metadata": {},
          "execution_count": 30
        }
      ],
      "source": [
        "x = np.array([[1, 2, 3]])\n",
        "y = np.array([[4, 5, 6]])\n",
        "\n",
        "np.append(x, y, axis=1)"
      ]
    },
    {
      "cell_type": "code",
      "execution_count": 33,
      "metadata": {
        "id": "urUFsQMqZFZG",
        "colab": {
          "base_uri": "https://localhost:8080/"
        },
        "outputId": "f4328ece-9584-4cbb-9aef-b5b7808228dc"
      },
      "outputs": [
        {
          "output_type": "execute_result",
          "data": {
            "text/plain": [
              "array([[1, 2, 3, 4, 5, 6]])"
            ]
          },
          "metadata": {},
          "execution_count": 33
        }
      ],
      "source": [
        "xy = np.concatenate((x,y),axis = 1)\n",
        "xy"
      ]
    },
    {
      "cell_type": "markdown",
      "metadata": {
        "id": "QaKEuybI3V9E"
      },
      "source": [
        "### 請參考 [100-numpy-exercises](https://github.com/rougier/numpy-100/blob/master/100_Numpy_exercises.ipynb) 做更多 numpy 的操作練習"
      ]
    }
  ],
  "metadata": {
    "kernelspec": {
      "display_name": "Python 3",
      "language": "python",
      "name": "python3"
    },
    "language_info": {
      "codemirror_mode": {
        "name": "ipython",
        "version": 3
      },
      "file_extension": ".py",
      "mimetype": "text/x-python",
      "name": "python",
      "nbconvert_exporter": "python",
      "pygments_lexer": "ipython3",
      "version": "3.7.3"
    },
    "colab": {
      "provenance": [],
      "include_colab_link": true
    }
  },
  "nbformat": 4,
  "nbformat_minor": 0
}